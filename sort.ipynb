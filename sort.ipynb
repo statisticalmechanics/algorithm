{
 "cells": [
  {
   "cell_type": "markdown",
   "metadata": {},
   "source": [
    "# Sorting Algorithms Demostration\n",
    "\n",
    "### Kai Zhang, Columbia University, 2018"
   ]
  },
  {
   "cell_type": "code",
   "execution_count": 1,
   "metadata": {},
   "outputs": [],
   "source": [
    "import random\n",
    "import time\n",
    "import math\n",
    "import numpy as np\n",
    "import matplotlib.pyplot as plt"
   ]
  },
  {
   "cell_type": "code",
   "execution_count": 67,
   "metadata": {},
   "outputs": [
    {
     "name": "stdout",
     "output_type": "stream",
     "text": [
      "1000000\n",
      "1000000\n"
     ]
    }
   ],
   "source": [
    "# if 'maximum recursion depth exceeded in comparison' occurs for quick sort\n",
    "# dangerous\n",
    "import resource, sys\n",
    "print(sys.getrecursionlimit())\n",
    "sys.setrecursionlimit(10**6)\n",
    "print(sys.getrecursionlimit())\n",
    "#resource.setrlimit(resource.RLIMIT_STACK, (resource.RLIM_INFINITY, resource.RLIM_INFINITY))"
   ]
  },
  {
   "cell_type": "code",
   "execution_count": 2,
   "metadata": {},
   "outputs": [],
   "source": [
    "class Heap:\n",
    "    \n",
    "    def Parent(self, i): \n",
    "        \"\"\"\n",
    "        i = 0, 1, ..., heapsize-1\n",
    "        \"\"\"\n",
    "        return math.floor((i-1)/2)\n",
    "    \n",
    "    def LeftChild(self, i):\n",
    "        return 2*i + 1\n",
    "    \n",
    "    def RightChild(self, i):\n",
    "        return 2*i + 2\n",
    "    \n",
    "    def HeapMax(self,A):\n",
    "        return A[0]\n",
    "    \n",
    "    def MaxHeapify(self, A, heapsize, i):\n",
    "        \"\"\"\n",
    "        float down element at node i\n",
    "        to the heap, recurrently\n",
    "        until reaching a max-heap\n",
    "        \"\"\"\n",
    "        l = self.LeftChild(i) \n",
    "        r = self.RightChild(i)\n",
    "        if l < heapsize and A[l] > A[i]:\n",
    "            largest = l\n",
    "        else:\n",
    "            largest = i\n",
    "            \n",
    "        if r < heapsize and A[r] > A[largest]:\n",
    "            largest = r\n",
    "        \n",
    "        if largest != i:\n",
    "            key = A[i]\n",
    "            A[i] = A[largest]\n",
    "            A[largest] = key\n",
    "            self.MaxHeapify(A, heapsize, largest)\n",
    "        \n",
    "        return A\n",
    "    \n",
    "    def BuildMaxHeap(self, A, heapsize):\n",
    "        n = heapsize # <= len(A)\n",
    "        for i in range(math.floor(n/2)-1, -1, -1):\n",
    "            self.MaxHeapify(A, heapsize, i)\n",
    "        \n",
    "        return A\n",
    "    \n",
    "    \n",
    "    def HeapExtractMax(self, A, heapsize):\n",
    "        \n",
    "        if heapsize < 1:\n",
    "            print(\"error: heap underflow\")\n",
    "        maximum = self.HeapMax(A)\n",
    "        A[0] = A[heapsize-1]\n",
    "        heapsize = heapsize - 1\n",
    "        self.MaxHeapify(A, heapsize, 0)\n",
    "        A = A[:heapsize] # trim list\n",
    "\n",
    "        return maximum, A, heapsize\n",
    "    \n",
    "    def HeapIncreaseKey(self, A, i, key):\n",
    "        \"\"\"\n",
    "        increase site i's key to a larger value\n",
    "        and rearrange the heap accordingly\n",
    "        \"\"\"\n",
    "        if key < A[i]:\n",
    "            print(\"error: new key is smaller than current key\")\n",
    "            \n",
    "        A[i] = key\n",
    "        \n",
    "        while (i>0 and A[self.Parent(i)] < A[i]):\n",
    "            temp = A[i]\n",
    "            A[i] = A[self.Parent(i)]\n",
    "            A[self.Parent(i)] = temp\n",
    "            i = self.Parent(i)\n",
    "        \n",
    "        return A\n",
    "    \n",
    "    def MaxHeapInsert(self, A, heapsize, key):\n",
    "        Infy = 1e8\n",
    "        heapsize = heapsize + 1\n",
    "        A.append(-Infy)\n",
    "        self.HeapIncreaseKey(A, heapsize-1, key)\n",
    "        \n",
    "        return A, heapsize\n",
    "        "
   ]
  },
  {
   "cell_type": "code",
   "execution_count": 108,
   "metadata": {},
   "outputs": [
    {
     "name": "stdout",
     "output_type": "stream",
     "text": [
      "original:  [15, 13, 9, 5, 12, 8, 7, 4, 0, 6, 2, 1]\n",
      "heap  [15, 13, 9, 5, 12, 8, 7, 4, 0, 6, 2, 1]\n",
      "heap after extract maximum  15 [13, 12, 9, 5, 6, 8, 7, 4, 0, 1, 2] of size 11\n"
     ]
    }
   ],
   "source": [
    "#X = [4,1,3,2,16,9,10,14,8,7]\n",
    "X = [15, 13, 9, 5, 12, 8, 7, 4, 0, 6, 2, 1]\n",
    "print(\"original: \", X)\n",
    "hp = Heap()\n",
    "X = hp.BuildMaxHeap(X)\n",
    "print(\"heap \", X)\n",
    "\n",
    "#n = len(X)\n",
    "#k = 10\n",
    "#X, n = hp.MaxHeapInsert(X, n, k)\n",
    "#print(\"insert key \", k, \" to get heap \", X, \" of size \", n)\n",
    "\n",
    "#i, k = 8, 15\n",
    "#X = hp.HeapIncreaseKey(X, i, k)\n",
    "#print(\"heap increase site \", i,\" to key \", k,  X)\n",
    "\n",
    "n = len(X)\n",
    "xmax, X, n = hp.HeapExtractMax(X, n)\n",
    "print(\"heap after extract maximum \", xmax, X, \"of size\", n)"
   ]
  },
  {
   "cell_type": "code",
   "execution_count": null,
   "metadata": {},
   "outputs": [],
   "source": []
  },
  {
   "cell_type": "code",
   "execution_count": 36,
   "metadata": {},
   "outputs": [],
   "source": [
    "class Sort:\n",
    "    #def __int__(self, A):\n",
    "    #    self.A = A\n",
    "        \n",
    "    def InsertionSort(self, A):\n",
    "        \"\"\"\n",
    "        type A: a list \n",
    "        return : a sorted list A\n",
    "        sorted in place\n",
    "        \"\"\"\n",
    "        for j in range(1,len(A)):\n",
    "            key = A[j]\n",
    "            i = j-1\n",
    "            while (i>=0 and A[i]>key):\n",
    "                A[i+1] = A[i]\n",
    "                i = i-1\n",
    "            A[i+1] = key\n",
    "        return A\n",
    "    \n",
    "    def BubbleSort(self, A):\n",
    "        for i in range(0,len(A)): # from first to last\n",
    "            for j in range(len(A)-1, i, -1): # from last to i+1\n",
    "                if A[j] < A[j-1]:\n",
    "                    key = A[j]\n",
    "                    A[j]= A[j-1]\n",
    "                    A[j-1] = key\n",
    "        return A\n",
    "    \n",
    "    def Merge(self, A, p, q, r): # p <= q < r\n",
    "        n1 = q - p + 1\n",
    "        n2 = r - q\n",
    "        Inf = 1e8\n",
    "        \n",
    "        L = [] # or L = [None]*len(A)\n",
    "        for i in range(0, n1):         \n",
    "            L.append(A[p+i]) # or L[i] = A[p+i]\n",
    "                    \n",
    "        R = [] # or R = [None]*len(A)\n",
    "        for j in range(0, n2):           \n",
    "            R.append(A[q+j+1]) # or R[j] = A[q+j+1]\n",
    "                    \n",
    "        L.append(Inf) # or L[n1], R[n2] = Inf, Inf\n",
    "        R.append(Inf)\n",
    "        i,j = 0,0 \n",
    "        \n",
    "        for k in range(p, r+1):\n",
    "            if L[i] <= R[j]:\n",
    "                A[k] = L[i]\n",
    "                i = i+1\n",
    "            else:\n",
    "                A[k] = R[j]\n",
    "                j = j+1\n",
    "    \n",
    "        return L, R, A\n",
    "    \n",
    "    def MergeSort(self, A, p, r):\n",
    "        if p < r:\n",
    "            q = math.floor((p+r)/2)\n",
    "            self.MergeSort(A, p, q)\n",
    "            self.MergeSort(A, q+1, r)\n",
    "            self.Merge(A, p, q, r)\n",
    "            \n",
    "        return A\n",
    "    \n",
    "    def HeapSort(self, A):\n",
    "        heapsize = len(A)\n",
    "        Heap().BuildMaxHeap(A, heapsize)\n",
    "              \n",
    "        for i in range(len(A)-1, 0, -1):\n",
    "            key = A[0]\n",
    "            A[0] = A[i]\n",
    "            A[i] = key\n",
    "            heapsize = heapsize - 1\n",
    "            Heap().MaxHeapify(A, heapsize, 0)\n",
    "            \n",
    "        return A\n",
    "    \n",
    "    def Partition(self, A, p, r): # [p, r)\n",
    "        x = A[r-1]\n",
    "        i = p - 1\n",
    "        \n",
    "        for j in range(p, r-1):\n",
    "            if A[j] <= x:\n",
    "                i = i + 1\n",
    "                key = A[i]\n",
    "                A[i] = A[j]\n",
    "                A[j] = key\n",
    "        \n",
    "        key = A[i+1]\n",
    "        A[i+1] = A[r-1]\n",
    "        A[r-1] = key\n",
    "        \n",
    "        return i+1\n",
    "    \n",
    "    def QuickSort(self, A, p, r):\n",
    "        if p < r-1:\n",
    "            q = self.Partition(A, p, r)\n",
    "            self.QuickSort(A, p, q)\n",
    "            self.QuickSort(A, q+1, r)\n",
    "            \n",
    "        return A\n",
    "    \n",
    "    \n",
    "    def QuickSort2(self, A, p, r):\n",
    "        \"\"\"\n",
    "        tail recursion\n",
    "        \"\"\"\n",
    "        if p < r-1:\n",
    "            q = self.Partition(A, p, r)\n",
    "            self.QuickSort(A, p, q)\n",
    "            p = q + 1\n",
    "            \n",
    "        return A\n",
    "    \n",
    "    def CountingSort(self, A, k):\n",
    "        \"\"\"sort n integers in the range 0, 1, ..., k-1\"\"\"\n",
    "        C = [0] * k\n",
    "        B = [None] * len(A)\n",
    "        \n",
    "        for j in range(0, len(A)):\n",
    "            C[A[j]] = C[A[j]] + 1\n",
    "                \n",
    "        for i in range(1, k):\n",
    "            C[i] = C[i] + C[i-1]\n",
    "\n",
    "        for j in range(len(A)-1, -1, -1): # n-1, ..., 1, 0\n",
    "            B[C[A[j]]-1] = A[j]\n",
    "            C[A[j]] = C[A[j]] - 1\n",
    "        \n",
    "        return B"
   ]
  },
  {
   "cell_type": "code",
   "execution_count": 52,
   "metadata": {},
   "outputs": [
    {
     "name": "stdout",
     "output_type": "stream",
     "text": [
      "[2, 5, 19, 16, 8, 7, 12, 0, 4, 3, 1, 18, 17, 14, 13, 6, 9, 10, 15, 11]\n"
     ]
    }
   ],
   "source": [
    "n=20\n",
    "X = list(range(0,n))\n",
    "random.seed(1984)\n",
    "random.shuffle(X)\n",
    "#X = [2, 5, 3, 0, 2, 3, 0, 3]\n",
    "#A = list(range(n,0,-1)) # reverse order\n",
    "print(X)"
   ]
  },
  {
   "cell_type": "code",
   "execution_count": 53,
   "metadata": {},
   "outputs": [
    {
     "name": "stdout",
     "output_type": "stream",
     "text": [
      "Counting sort: 0.141143798828125 ms\n",
      "[0, 1, 2, 3, 4, 5, 6, 7, 8, 9, 10, 11, 12, 13, 14, 15, 16, 17, 18, 19]\n"
     ]
    }
   ],
   "source": [
    "st=Sort() # create object 'st' using class 'Sort'\n",
    "tic = time.time()\n",
    "Xst = st.CountingSort(X, n)\n",
    "toc = time.time()\n",
    "print(\"Counting sort: \" + str(1000*(toc-tic)) + \" ms\")\n",
    "print(Xst)"
   ]
  },
  {
   "cell_type": "code",
   "execution_count": 54,
   "metadata": {},
   "outputs": [
    {
     "name": "stdout",
     "output_type": "stream",
     "text": [
      "Insertion sort: 0.09918212890625 ms\n"
     ]
    }
   ],
   "source": [
    "st=Sort() # create object 'st' using class 'Sort'\n",
    "tic = time.time()\n",
    "st.InsertionSort(X)\n",
    "toc = time.time()\n",
    "print(\"Insertion sort: \" + str(1000*(toc-tic)) + \" ms\")\n",
    "#print(X)"
   ]
  },
  {
   "cell_type": "code",
   "execution_count": 55,
   "metadata": {},
   "outputs": [
    {
     "name": "stdout",
     "output_type": "stream",
     "text": [
      "Bubble sort: 0.13494491577148438 ms\n"
     ]
    }
   ],
   "source": [
    "st=Sort() # create object 'st' using class 'Sort'\n",
    "tic = time.time()\n",
    "st.BubbleSort(X)\n",
    "toc = time.time()\n",
    "print(\"Bubble sort: \" + str(1000*(toc-tic)) + \" ms\")\n",
    "#print(X)"
   ]
  },
  {
   "cell_type": "code",
   "execution_count": 56,
   "metadata": {},
   "outputs": [
    {
     "name": "stdout",
     "output_type": "stream",
     "text": [
      "[2, 4, 5, 7, 100000000.0]\n",
      "[1, 2, 3, 6, 100000000.0]\n",
      "[8, 8, 8, 8, 8, 8, 8, 8, 10, 1, 2, 2, 3, 4, 5, 6, 7, 10, 8, 8, 8, 8, 8, 8]\n"
     ]
    }
   ],
   "source": [
    "A = [8,8,8,8,8,8,8,8,10,2,4,5,7,1,2,3,6,10,8,8,8,8,8,8]\n",
    "st=Sort()\n",
    "L, R, A = st.Merge(A, 9, 12, 16)\n",
    "print(L)\n",
    "print(R)\n",
    "print(A)"
   ]
  },
  {
   "cell_type": "code",
   "execution_count": 57,
   "metadata": {},
   "outputs": [
    {
     "name": "stdout",
     "output_type": "stream",
     "text": [
      "Merge sort: 0.19812583923339844 ms\n"
     ]
    }
   ],
   "source": [
    "st=Sort() # create object 'st' using class 'Sort'\n",
    "tic = time.time()\n",
    "st.MergeSort(X, 0, len(X)-1)\n",
    "toc = time.time()\n",
    "print(\"Merge sort: \" + str(1000*(toc-tic)) + \" ms\")\n",
    "#print(X)"
   ]
  },
  {
   "cell_type": "code",
   "execution_count": 58,
   "metadata": {},
   "outputs": [
    {
     "name": "stdout",
     "output_type": "stream",
     "text": [
      "Heap sort: 0.18978118896484375 ms\n",
      "[0, 1, 2, 3, 4, 5, 6, 7, 8, 9, 10, 11, 12, 13, 14, 15, 16, 17, 18, 19]\n"
     ]
    }
   ],
   "source": [
    "st=Sort() # create object 'st' using class 'Sort'\n",
    "tic = time.time()\n",
    "st.HeapSort(X)\n",
    "toc = time.time()\n",
    "print(\"Heap sort: \" + str(1000*(toc-tic)) + \" ms\")\n",
    "print(X)"
   ]
  },
  {
   "cell_type": "code",
   "execution_count": 59,
   "metadata": {},
   "outputs": [
    {
     "name": "stdout",
     "output_type": "stream",
     "text": [
      "Quick sort: 0.3330707550048828 ms\n",
      "[0, 1, 2, 3, 4, 5, 6, 7, 8, 9, 10, 11, 12, 13, 14, 15, 16, 17, 18, 19]\n"
     ]
    }
   ],
   "source": [
    "# ~ O(n^2) for unbalanced partition, e.g. X = [1, 2, 3, 4, ... , n]\n",
    "st=Sort() # create object 'st' using class 'Sort'\n",
    "tic = time.time()\n",
    "st.QuickSort(X, 0, len(X))\n",
    "toc = time.time()\n",
    "print(\"Quick sort: \" + str(1000*(toc-tic)) + \" ms\")\n",
    "print(X)"
   ]
  },
  {
   "cell_type": "code",
   "execution_count": 60,
   "metadata": {},
   "outputs": [
    {
     "name": "stdout",
     "output_type": "stream",
     "text": [
      "Quick sort2: 0.18095970153808594 ms\n",
      "[0, 1, 2, 3, 4, 5, 6, 7, 8, 9, 10, 11, 12, 13, 14, 15, 16, 17, 18, 19]\n"
     ]
    }
   ],
   "source": [
    "# ~ O(n^2) for unbalanced partition, e.g. X = [1, 2, 3, 4, ... , n]\n",
    "st=Sort() # create object 'st' using class 'Sort'\n",
    "tic = time.time()\n",
    "st.QuickSort2(X, 0, len(X))\n",
    "toc = time.time()\n",
    "print(\"Quick sort2: \" + str(1000*(toc-tic)) + \" ms\")\n",
    "print(X)"
   ]
  },
  {
   "cell_type": "code",
   "execution_count": 61,
   "metadata": {},
   "outputs": [
    {
     "name": "stdout",
     "output_type": "stream",
     "text": [
      "Counting sort: 0.09584426879882812 ms\n",
      "[0, 1, 2, 3, 4, 5, 6, 7, 8, 9, 10, 11, 12, 13, 14, 15, 16, 17, 18, 19]\n"
     ]
    }
   ],
   "source": [
    "st=Sort() # create object 'st' using class 'Sort'\n",
    "tic = time.time()\n",
    "Xst = st.CountingSort(X, n)\n",
    "toc = time.time()\n",
    "print(\"Counting sort: \" + str(1000*(toc-tic)) + \" ms\")\n",
    "print(Xst)"
   ]
  },
  {
   "cell_type": "markdown",
   "metadata": {},
   "source": [
    "# Sorting Algorithm Benckmark"
   ]
  },
  {
   "cell_type": "code",
   "execution_count": 49,
   "metadata": {},
   "outputs": [
    {
     "name": "stdout",
     "output_type": "stream",
     "text": [
      "n =  10\n",
      "Insertion sort: 0.021696090698242188 ms\n",
      "Bubble sort: 0.022649765014648438 ms\n",
      "Merge sort: 0.06794929504394531 ms\n",
      "Heap sort: 0.0591278076171875 ms\n",
      "Quick sort: 0.02002716064453125 ms\n",
      "Quick sort with tail recursion: 0.014066696166992188 ms\n",
      "Counting sort: 0.014066696166992188 ms\n",
      "n =  30\n",
      "Insertion sort: 0.06890296936035156 ms\n",
      "Bubble sort: 0.15783309936523438 ms\n",
      "Merge sort: 0.25081634521484375 ms\n",
      "Heap sort: 0.21600723266601562 ms\n",
      "Quick sort: 0.08797645568847656 ms\n",
      "Quick sort with tail recursion: 0.04410743713378906 ms\n",
      "Counting sort: 0.036716461181640625 ms\n",
      "n =  100\n",
      "Insertion sort: 0.743865966796875 ms\n",
      "Bubble sort: 1.7762184143066406 ms\n",
      "Merge sort: 0.7343292236328125 ms\n",
      "Heap sort: 0.865936279296875 ms\n",
      "Quick sort: 0.31685829162597656 ms\n",
      "Quick sort with tail recursion: 0.17118453979492188 ms\n",
      "Counting sort: 0.110626220703125 ms\n",
      "n =  300\n",
      "Insertion sort: 5.263805389404297 ms\n",
      "Bubble sort: 12.167930603027344 ms\n",
      "Merge sort: 1.9919872283935547 ms\n",
      "Heap sort: 2.9633045196533203 ms\n",
      "Quick sort: 0.8561611175537109 ms\n",
      "Quick sort with tail recursion: 0.5910396575927734 ms\n",
      "Counting sort: 0.23102760314941406 ms\n",
      "n =  1000\n",
      "Insertion sort: 67.29984283447266 ms\n",
      "Bubble sort: 162.63103485107422 ms\n",
      "Merge sort: 13.43393325805664 ms\n",
      "Heap sort: 15.816926956176758 ms\n",
      "Quick sort: 4.870176315307617 ms\n",
      "Quick sort with tail recursion: 1.4388561248779297 ms\n",
      "Counting sort: 0.8151531219482422 ms\n",
      "n =  3000\n",
      "Insertion sort: 680.9022426605225 ms\n",
      "Bubble sort: 1397.568941116333 ms\n",
      "Merge sort: 28.476953506469727 ms\n",
      "Heap sort: 45.97806930541992 ms\n",
      "Quick sort: 13.556957244873047 ms\n",
      "Quick sort with tail recursion: 6.451845169067383 ms\n",
      "Counting sort: 2.321004867553711 ms\n",
      "n =  10000\n",
      "Insertion sort: 7752.117872238159 ms\n",
      "Bubble sort: 16900.190114974976 ms\n",
      "Merge sort: 108.37292671203613 ms\n",
      "Heap sort: 181.47683143615723 ms\n",
      "Quick sort: 55.902957916259766 ms\n",
      "Quick sort with tail recursion: 33.10823440551758 ms\n",
      "Counting sort: 9.474992752075195 ms\n"
     ]
    }
   ],
   "source": [
    "nlist = [10, 30, 100, 300, 1000, 3000, 10000] #, 30000, 100000] # n = 10^5 bubble sort takes ~15mins\n",
    "\n",
    "t1 = []\n",
    "t2 = []\n",
    "t3 = []\n",
    "t4 = []\n",
    "t5 = []\n",
    "t6 = []\n",
    "t7 = []\n",
    "\n",
    "tol = 1e-8\n",
    "for n in nlist:\n",
    "    X = list(range(0,n))\n",
    "    Xsorted = list(X) # do not use Xnew = Xold, for this results in the SAME one list\n",
    "    random.seed(1984)\n",
    "    random.shuffle(X)\n",
    "    X0 = list(X)\n",
    "    st=Sort() # create object 'st' using class 'Sort'\n",
    "    print(\"n = \", n)\n",
    "\n",
    "    X = list(X0)\n",
    "    tic = time.time()\n",
    "    st.InsertionSort(X)\n",
    "    toc = time.time()\n",
    "    t1.append(1000*(toc-tic))\n",
    "    print(\"Insertion sort: \" + str(1000*(toc-tic)) + \" ms\")\n",
    "    dX = [x1 - x2 for x1, x2 in zip(Xsorted, X)]\n",
    "    if sum(dX) > tol: print('sorting error: ', dX)\n",
    "    \n",
    "    X = list(X0)\n",
    "    tic = time.time()\n",
    "    st.BubbleSort(X)\n",
    "    toc = time.time()\n",
    "    t2.append(1000*(toc-tic))\n",
    "    print(\"Bubble sort: \" + str(1000*(toc-tic)) + \" ms\")\n",
    "    dX = [x1 - x2 for x1, x2 in zip(Xsorted, X)]\n",
    "    if sum(dX) > tol: print('sorting error: ', dX)\n",
    "  \n",
    "    X = list(X0)\n",
    "    tic = time.time()\n",
    "    st.MergeSort(X, 0, len(X)-1)\n",
    "    toc = time.time()\n",
    "    t3.append(1000*(toc-tic))\n",
    "    print(\"Merge sort: \" + str(1000*(toc-tic)) + \" ms\")\n",
    "    dX = [x1 - x2 for x1, x2 in zip(Xsorted, X)]\n",
    "    if sum(dX) > tol: print('sorting error: ', dX)\n",
    "         \n",
    "    X = list(X0)\n",
    "    tic = time.time()\n",
    "    st.HeapSort(X)\n",
    "    toc = time.time()\n",
    "    t4.append(1000*(toc-tic))\n",
    "    print(\"Heap sort: \" + str(1000*(toc-tic)) + \" ms\")  \n",
    "    dX = [x1 - x2 for x1, x2 in zip(Xsorted, X)]\n",
    "    if sum(dX) > tol: print('sorting error: ', dX)\n",
    "    \n",
    "    X = list(X0)\n",
    "    tic = time.time()\n",
    "    st.QuickSort(X, 0, len(X))\n",
    "    toc = time.time()\n",
    "    t5.append(1000*(toc-tic))\n",
    "    print(\"Quick sort: \" + str(1000*(toc-tic)) + \" ms\")\n",
    "    dX = [x1 - x2 for x1, x2 in zip(Xsorted, X)]\n",
    "    if sum(dX) > tol: print('sorting error: ', dX)\n",
    "     \n",
    "    X = list(X0)\n",
    "    tic = time.time()\n",
    "    st.QuickSort2(X, 0, len(X))\n",
    "    toc = time.time()\n",
    "    t6.append(1000*(toc-tic))\n",
    "    print(\"Quick sort with tail recursion: \" + str(1000*(toc-tic)) + \" ms\")\n",
    "    dX = [x1 - x2 for x1, x2 in zip(Xsorted, X)]\n",
    "    if sum(dX) > tol: print('sorting error: ', dX)\n",
    "        \n",
    "    X = list(X0)\n",
    "    tic = time.time()\n",
    "    Xst = st.CountingSort(X, len(X))\n",
    "    toc = time.time()\n",
    "    t7.append(1000*(toc-tic))\n",
    "    print(\"Counting sort: \" + str(1000*(toc-tic)) + \" ms\")\n",
    "    dX = [x1 - x2 for x1, x2 in zip(Xsorted, Xst)]\n",
    "    if sum(dX) > tol: print('sorting error: ', dX)\n",
    "        \n",
    "    print('\\n')"
   ]
  },
  {
   "cell_type": "code",
   "execution_count": 50,
   "metadata": {},
   "outputs": [
    {
     "data": {
      "image/png": "[encoded data removed]",
      "text/plain": [
       "<matplotlib.figure.Figure at 0x10fc4a048>"
      ]
     },
     "metadata": {},
     "output_type": "display_data"
    }
   ],
   "source": [
    "plt.figure(figsize=(7,5))\n",
    "plt.xlabel('n', fontsize=15)\n",
    "plt.ylabel('$t$ (ms)', fontsize=15)\n",
    "\n",
    "plt.plot(nlist,t1, 'ks-', mfc='none')\n",
    "plt.plot(nlist,t2, 'ro-', mfc='none')\n",
    "plt.plot(nlist,t3, 'gx-')\n",
    "plt.plot(nlist,t4, 'b^-', mfc='none')\n",
    "plt.plot(nlist,t5, 'md-', mfc='none')\n",
    "plt.plot(nlist,t6, 'md-')\n",
    "plt.plot(nlist,t7, 'cp-', mfc='none')\n",
    "\n",
    "\n",
    "\n",
    "plt.xscale('log')\n",
    "plt.yscale('log')\n",
    "\n",
    "plt.legend(['insert', 'bubble', 'merge', 'heap', 'quick', 'quick2', 'counting'],frameon=False)\n",
    "#plt.xlim(0,1)\n",
    "#plt.ylim(0,1)\n",
    "\n",
    "plt.show()"
   ]
  },
  {
   "cell_type": "code",
   "execution_count": 25,
   "metadata": {},
   "outputs": [
    {
     "data": {
      "text/plain": [
       "0"
      ]
     },
     "execution_count": 25,
     "metadata": {},
     "output_type": "execute_result"
    }
   ],
   "source": [
    "sum(dX)"
   ]
  },
  {
   "cell_type": "code",
   "execution_count": null,
   "metadata": {},
   "outputs": [],
   "source": []
  }
 ],
 "metadata": {
  "kernelspec": {
   "display_name": "Python 3",
   "language": "python",
   "name": "python3"
  },
  "language_info": {
   "codemirror_mode": {
    "name": "ipython",
    "version": 3
   },
   "file_extension": ".py",
   "mimetype": "text/x-python",
   "name": "python",
   "nbconvert_exporter": "python",
   "pygments_lexer": "ipython3",
   "version": "3.6.4"
  }
 },
 "nbformat": 4,
 "nbformat_minor": 2
}
